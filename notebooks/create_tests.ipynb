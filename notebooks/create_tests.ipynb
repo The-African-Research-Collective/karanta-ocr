{
 "cells": [
  {
   "cell_type": "code",
   "execution_count": 7,
   "metadata": {},
   "outputs": [
    {
     "data": {
      "text/plain": [
       "True"
      ]
     },
     "execution_count": 7,
     "metadata": {},
     "output_type": "execute_result"
    }
   ],
   "source": [
    "import sys\n",
    "from dotenv import load_dotenv\n",
    "\n",
    "sys.path.append(\"..\")\n",
    "\n",
    "from karanta.llm_clients.azure_client import AzureOPENAILLM\n",
    "from karanta.data.process_pdf_utils import render_pdf_to_base64png\n",
    "from karanta.constants import TARGET_IMAGE_DIM\n",
    "from karanta.data.utils import load_prompt_template, create_vision_message\n",
    "\n",
    "load_dotenv()"
   ]
  },
  {
   "cell_type": "code",
   "execution_count": 8,
   "metadata": {},
   "outputs": [],
   "source": [
    "local_pdf_path = \"/Users/odunayoogundepo/Desktop/test_images_karanta/pdf/no_type/complete-works_page_38.pdf\"\n",
    "page = 1\n",
    "\n",
    "image_base64 = render_pdf_to_base64png(local_pdf_path, page, TARGET_IMAGE_DIM)"
   ]
  },
  {
   "cell_type": "code",
   "execution_count": 9,
   "metadata": {},
   "outputs": [],
   "source": [
    "prompt_template = load_prompt_template(\n",
    "    \"text_present_prompt\",\n",
    "    \"/Users/odunayoogundepo/Desktop/ocr_training/karanta-ocr/configs/prompts/create_tests.yaml\",\n",
    ")"
   ]
  },
  {
   "cell_type": "code",
   "execution_count": null,
   "metadata": {},
   "outputs": [],
   "source": [
    "def text_order_response_format() -> dict:\n",
    "    return {\n",
    "        \"type\": \"json_schema\",\n",
    "        \"json_schema\": {\n",
    "            \"name\": \"text_order_response\",\n",
    "            \"schema\": {\n",
    "                \"type\": \"object\",\n",
    "                \"properties\": {\n",
    "                    \"tests\": {\n",
    "                        \"type\": \"array\",\n",
    "                        \"items\": {\n",
    "                            \"type\": \"object\",\n",
    "                            \"properties\": {\n",
    "                                \"test_type\": {\n",
    "                                    \"type\": \"string\",\n",
    "                                    \"enum\": [\"text_order\"],\n",
    "                                    \"description\": \"The type of test to be performed.\",\n",
    "                                },\n",
    "                                \"before\": {\n",
    "                                    \"type\": \"string\",\n",
    "                                    \"description\": \"The text that should appear before the target text.\",\n",
    "                                },\n",
    "                                \"after\": {\n",
    "                                    \"type\": \"string\",\n",
    "                                    \"description\": \"The text that should appear after the target text.\",\n",
    "                                },\n",
    "                                \"target\": {\n",
    "                                    \"type\": \"string\",\n",
    "                                    \"description\": \"The target text whose order is to be verified.\",\n",
    "                                },\n",
    "                            },\n",
    "                            \"additionalProperties\": False,\n",
    "                            \"required\": [\"test_type\", \"before\", \"after\", \"target\"],\n",
    "                        },\n",
    "                        \"description\": \"A list of tests to check for the presence of specific text in the image.\",\n",
    "                    }\n",
    "                },\n",
    "                \"additionalProperties\": False,\n",
    "                \"required\": [\"tests\"],\n",
    "            },\n",
    "            \"strict\": True,\n",
    "        },\n",
    "    }"
   ]
  },
  {
   "cell_type": "code",
   "execution_count": 15,
   "metadata": {},
   "outputs": [],
   "source": [
    "def text_present_response_format() -> dict:\n",
    "    return {\n",
    "        \"type\": \"json_schema\",\n",
    "        \"json_schema\": {\n",
    "            \"name\": \"text_present_response\",\n",
    "            \"schema\": {\n",
    "                \"type\": \"object\",\n",
    "                \"properties\": {\n",
    "                    \"tests\": {\n",
    "                        \"type\": \"array\",\n",
    "                        \"items\": {\n",
    "                            \"type\": \"object\",\n",
    "                            \"properties\": {\n",
    "                                \"test_type\": {\n",
    "                                    \"type\": \"string\",\n",
    "                                    \"enum\": [\"text_present\"],\n",
    "                                    \"description\": \"The type of test to be performed.\",\n",
    "                                },\n",
    "                                \"text\": {\n",
    "                                    \"type\": \"string\",\n",
    "                                    \"description\": \"The text that is present in the image.\",\n",
    "                                },\n",
    "                                \"case_sensitive\": {\n",
    "                                    \"type\": \"boolean\",\n",
    "                                    \"description\": \"Indicates whether the text matching should be case sensitive.\",\n",
    "                                },\n",
    "                                \"first_n\": {\n",
    "                                    \"type\": [\"string\", \"null\"],\n",
    "                                    \"description\": \"If provided, only the first N characters of the text should be considered for matching. If null, consider the full text.\",\n",
    "                                },\n",
    "                                \"last_n\": {\n",
    "                                    \"type\": [\"string\", \"null\"],\n",
    "                                    \"description\": \"If provided, only the last N characters of the text should be considered for matching. If null, consider the full text.\",\n",
    "                                },\n",
    "                            },\n",
    "                            \"additionalProperties\": False,\n",
    "                            \"required\": [\n",
    "                                \"test_type\",\n",
    "                                \"text\",\n",
    "                                \"case_sensitive\",\n",
    "                                \"first_n\",\n",
    "                                \"last_n\",\n",
    "                            ],\n",
    "                        },\n",
    "                        \"description\": \"A list of tests to check for the presence of specific text in the image.\",\n",
    "                    }\n",
    "                },\n",
    "                \"additionalProperties\": False,\n",
    "                \"required\": [\"tests\"],\n",
    "            },\n",
    "            \"strict\": True,\n",
    "        },\n",
    "    }"
   ]
  },
  {
   "cell_type": "code",
   "execution_count": null,
   "metadata": {},
   "outputs": [],
   "source": [
    "def text_absent_response_format() -> dict:\n",
    "    return {\n",
    "        \"type\": \"json_schema\",\n",
    "        \"json_schema\": {\n",
    "            \"name\": \"text_absent_response\",\n",
    "            \"schema\": {\n",
    "                \"type\": \"object\",\n",
    "                \"properties\": {\n",
    "                    \"tests\": {\n",
    "                        \"type\": \"array\",\n",
    "                        \"items\": {\n",
    "                            \"type\": \"object\",\n",
    "                            \"properties\": {\n",
    "                                \"test_type\": {\n",
    "                                    \"type\": \"string\",\n",
    "                                    \"enum\": [\"text_present\"],\n",
    "                                    \"description\": \"The type of test to be performed.\",\n",
    "                                },\n",
    "                                \"text\": {\n",
    "                                    \"type\": \"string\",\n",
    "                                    \"description\": \"The text that is present in the image.\",\n",
    "                                },\n",
    "                                \"case_sensitive\": {\n",
    "                                    \"type\": \"boolean\",\n",
    "                                    \"description\": \"Indicates whether the text matching should be case sensitive.\",\n",
    "                                },\n",
    "                                \"first_n\": {\n",
    "                                    \"type\": [\"string\", \"null\"],\n",
    "                                    \"description\": \"If provided, only the first N characters of the text should be considered for matching. If null, consider the full text.\",\n",
    "                                },\n",
    "                                \"last_n\": {\n",
    "                                    \"type\": [\"string\", \"null\"],\n",
    "                                    \"description\": \"If provided, only the last N characters of the text should be considered for matching. If null, consider the full text.\",\n",
    "                                },\n",
    "                            },\n",
    "                            \"additionalProperties\": False,\n",
    "                            \"required\": [\n",
    "                                \"test_type\",\n",
    "                                \"text\",\n",
    "                                \"case_sensitive\",\n",
    "                                \"first_n\",\n",
    "                                \"last_n\",\n",
    "                            ],\n",
    "                        },\n",
    "                        \"description\": \"A list of tests to check for the presence of specific text in the image.\",\n",
    "                    }\n",
    "                },\n",
    "                \"additionalProperties\": False,\n",
    "                \"required\": [\"tests\"],\n",
    "            },\n",
    "            \"strict\": True,\n",
    "        },\n",
    "    }"
   ]
  },
  {
   "cell_type": "code",
   "execution_count": 16,
   "metadata": {},
   "outputs": [],
   "source": [
    "client = AzureOPENAILLM(\"gpt-4.1\")\n",
    "messages = create_vision_message(prompt_template, None, image_base64)\n",
    "\n",
    "# Make API call\n",
    "response = await client.completion(\n",
    "    [messages],  # Azure client expects nested structure\n",
    "    text_present_response_format(),\n",
    "    temperature=0.1,\n",
    "    max_tokens=6000,\n",
    ")"
   ]
  },
  {
   "cell_type": "code",
   "execution_count": 17,
   "metadata": {},
   "outputs": [
    {
     "data": {
      "text/plain": [
       "[ModelCompletion(generation={'tests': [{'text': 'SOCIETY OF YOUNG NIGERIAN WRITERS', 'case_sensitive': True, 'first_n': '10', 'last_n': None}, {'text': 'D.O. FAGUNWA CORRESPONDENCE COURSE', 'case_sensitive': True, 'first_n': '15', 'last_n': None}, {'text': 'BY E-MAIL AND POSTAL MAIL', 'case_sensitive': True, 'first_n': '20', 'last_n': None}, {'text': 'OGBOJU ODE NINU IGBO IRUNMOLE', 'case_sensitive': True, 'first_n': None, 'last_n': '20'}, {'text': 'Questions Set and Edited by: Wole Adedoyin', 'case_sensitive': True, 'first_n': None, 'last_n': '20'}]}, model='gpt-4o')]"
      ]
     },
     "execution_count": 17,
     "metadata": {},
     "output_type": "execute_result"
    }
   ],
   "source": [
    "response"
   ]
  },
  {
   "cell_type": "code",
   "execution_count": null,
   "metadata": {},
   "outputs": [],
   "source": []
  }
 ],
 "metadata": {
  "kernelspec": {
   "display_name": "newspaper",
   "language": "python",
   "name": "python3"
  },
  "language_info": {
   "codemirror_mode": {
    "name": "ipython",
    "version": 3
   },
   "file_extension": ".py",
   "mimetype": "text/x-python",
   "name": "python",
   "nbconvert_exporter": "python",
   "pygments_lexer": "ipython3",
   "version": "3.10.0"
  }
 },
 "nbformat": 4,
 "nbformat_minor": 2
}
