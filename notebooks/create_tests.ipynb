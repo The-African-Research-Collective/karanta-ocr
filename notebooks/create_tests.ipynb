{
 "cells": [
  {
   "cell_type": "code",
   "execution_count": null,
   "metadata": {},
   "outputs": [],
   "source": [
    "import sys\n",
    "from dotenv import load_dotenv\n",
    "\n",
    "sys.path.append(\"..\")\n",
    "\n",
    "from karanta.llm_clients.azure_client import AzureOPENAILLM\n",
    "from karanta.data.process_pdf_utils import render_pdf_to_base64png\n",
    "from karanta.constants import TARGET_IMAGE_DIM\n",
    "from karanta.data.utils import (\n",
    "    load_prompt_template,\n",
    "    create_vision_message,\n",
    "    text_order_response_format,\n",
    "    text_present_response_format,\n",
    "    text_absent_response_format,\n",
    ")\n",
    "\n",
    "load_dotenv()"
   ]
  },
  {
   "cell_type": "code",
   "execution_count": 20,
   "metadata": {},
   "outputs": [],
   "source": [
    "local_pdf_path = \"/Users/odunayoogundepo/Desktop/test_images_karanta/pdf/no_type/_OceanofPDF.com_Colloquial_Yoruba_The_Complete_Course_for_Beginners_-_Antonia_Yetunde_page_246.pdf\"\n",
    "page = 1\n",
    "\n",
    "image_base64 = render_pdf_to_base64png(local_pdf_path, page, TARGET_IMAGE_DIM)"
   ]
  },
  {
   "cell_type": "code",
   "execution_count": 21,
   "metadata": {},
   "outputs": [],
   "source": [
    "prompt_template = load_prompt_template(\n",
    "    \"headers_footers_prompt\",\n",
    "    \"/Users/odunayoogundepo/Desktop/ocr_training/karanta-ocr/configs/prompts/create_tests.yaml\",\n",
    ")"
   ]
  },
  {
   "cell_type": "code",
   "execution_count": null,
   "metadata": {},
   "outputs": [],
   "source": [
    "client = AzureOPENAILLM(\"gpt-4.1\")\n",
    "messages = create_vision_message(prompt_template, None, image_base64)\n",
    "\n",
    "# Make API call\n",
    "response = await client.completion(\n",
    "    [messages],  # Azure client expects nested structure\n",
    "    text_present_response_format(),\n",
    "    temperature=0.1,\n",
    "    max_tokens=6000,\n",
    ")"
   ]
  },
  {
   "cell_type": "code",
   "execution_count": null,
   "metadata": {},
   "outputs": [],
   "source": [
    "response"
   ]
  },
  {
   "cell_type": "code",
   "execution_count": 6,
   "metadata": {},
   "outputs": [],
   "source": [
    "document_type = \"religion\"\n",
    "test_path = \"/Users/odunayoogundepo/Desktop/test_images_karanta/pdf\"\n",
    "processed_file = \"processed.txt\"\n",
    "output_path = \"/Users/odunayoogundepo/Desktop/test_images_karanta/unit_tests\""
   ]
  },
  {
   "cell_type": "code",
   "execution_count": null,
   "metadata": {},
   "outputs": [],
   "source": [
    "import jsonlines\n",
    "\n",
    "processed_files = set()\n",
    "\n",
    "with jsonlines.open(f\"{output_path}/tests_{document_type}.jsonl\", mode=\"r\") as reader:\n",
    "    for obj in reader:\n",
    "        processed_files.add(obj[\"source_file\"])"
   ]
  },
  {
   "cell_type": "code",
   "execution_count": null,
   "metadata": {},
   "outputs": [],
   "source": [
    "import jsonlines\n",
    "import os\n",
    "import random\n",
    "\n",
    "test_type = [\n",
    "    \"text_present_prompt\",\n",
    "    \"text_absent_prompt\",\n",
    "    \"headers_footers_prompt\",\n",
    "    \"text_order_prompt\",\n",
    "]\n",
    "\n",
    "client = AzureOPENAILLM(\"gpt-4.1\")\n",
    "\n",
    "\n",
    "with jsonlines.open(f\"{output_path}/tests_{document_type}.jsonl\", mode=\"a\") as writer:\n",
    "    for file in os.listdir(os.path.join(test_path, document_type)):\n",
    "        if file in processed_files:\n",
    "            print(f\"Skipping already processed file: {file}\")\n",
    "            continue\n",
    "\n",
    "        try:\n",
    "            local_pdf_path = os.path.join(test_path, document_type, file)\n",
    "            image_base64 = render_pdf_to_base64png(local_pdf_path, 1, TARGET_IMAGE_DIM)\n",
    "\n",
    "            # sample test type\n",
    "            sampled_test_type = random.choice(test_type)\n",
    "\n",
    "            prompt_template = load_prompt_template(\n",
    "                sampled_test_type,\n",
    "                \"/Users/odunayoogundepo/Desktop/ocr_training/karanta-ocr/configs/prompts/create_tests.yaml\",\n",
    "            )\n",
    "\n",
    "            messages = create_vision_message(prompt_template, None, image_base64)\n",
    "\n",
    "            if sampled_test_type == \"text_present_prompt\":\n",
    "                response_format = text_present_response_format()\n",
    "            elif sampled_test_type == \"text_absent_prompt\":\n",
    "                response_format = text_absent_response_format()\n",
    "            elif sampled_test_type == \"text_order_prompt\":\n",
    "                response_format = text_order_response_format()\n",
    "            elif sampled_test_type == \"headers_footers_prompt\":\n",
    "                response_format = text_present_response_format()\n",
    "\n",
    "            # Make API call\n",
    "            response = await client.completion(\n",
    "                [messages],  # Azure client expects nested structure\n",
    "                response_format,\n",
    "                temperature=0.1,\n",
    "                max_tokens=6000,\n",
    "            )\n",
    "\n",
    "            result = response[0].generation[\"tests\"]\n",
    "\n",
    "            for test_case in result:\n",
    "                test_case[\"document_type\"] = document_type\n",
    "                test_case[\"source_file\"] = file\n",
    "\n",
    "                if sampled_test_type == \"headers_footers_prompt\":\n",
    "                    test_case[\"test_type\"] = \"headers_footers_prompt\"\n",
    "\n",
    "                writer.write(test_case)\n",
    "\n",
    "        except Exception as e:\n",
    "            print(f\"Error processing file {file}: {e}\")\n",
    "            continue"
   ]
  },
  {
   "cell_type": "code",
   "execution_count": null,
   "metadata": {},
   "outputs": [],
   "source": []
  }
 ],
 "metadata": {
  "kernelspec": {
   "display_name": "newspaper",
   "language": "python",
   "name": "python3"
  },
  "language_info": {
   "codemirror_mode": {
    "name": "ipython",
    "version": 3
   },
   "file_extension": ".py",
   "mimetype": "text/x-python",
   "name": "python",
   "nbconvert_exporter": "python",
   "pygments_lexer": "ipython3",
   "version": "3.10.0"
  }
 },
 "nbformat": 4,
 "nbformat_minor": 2
}
